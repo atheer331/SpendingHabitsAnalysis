{
  "cells": [
    {
      "cell_type": "code",
      "execution_count": null,
      "metadata": {
        "id": "_zWEUrVRIevS"
      },
      "outputs": [],
      "source": [
        "from google.colab import drive"
      ]
    },
    {
      "cell_type": "code",
      "execution_count": null,
      "metadata": {
        "colab": {
          "base_uri": "https://localhost:8080/"
        },
        "id": "1I-L-xSgIs-Z",
        "outputId": "f87bb06f-2bf0-450c-82be-c78f758f2b9c"
      },
      "outputs": [
        {
          "output_type": "stream",
          "name": "stdout",
          "text": [
            "Drive already mounted at /content/drive; to attempt to forcibly remount, call drive.mount(\"/content/drive\", force_remount=True).\n"
          ]
        }
      ],
      "source": [
        "drive.mount('/content/drive')"
      ]
    },
    {
      "cell_type": "code",
      "execution_count": null,
      "metadata": {
        "id": "o-ja4exMJfRK"
      },
      "outputs": [],
      "source": [
        "import pandas as pd"
      ]
    },
    {
      "cell_type": "code",
      "execution_count": null,
      "metadata": {
        "id": "sobwH_VTKKRg"
      },
      "outputs": [],
      "source": [
        "data = pd.read_csv('/content/drive/MyDrive/data/Creditcard.csv')"
      ]
    },
    {
      "cell_type": "code",
      "execution_count": null,
      "metadata": {
        "colab": {
          "base_uri": "https://localhost:8080/",
          "height": 206
        },
        "id": "fT7GelLNKfzb",
        "outputId": "7fd3edea-c331-44f5-9225-79ec7591e6c3"
      },
      "outputs": [
        {
          "output_type": "execute_result",
          "data": {
            "text/plain": [
              "   index                   City       Date  Card Type Exp Type Gender  Amount\n",
              "0      0           Delhi, India  29-Oct-14       Gold    Bills      F   82475\n",
              "1      1  Greater Mumbai, India  22-Aug-14   Platinum    Bills      F   32555\n",
              "2      2       Bengaluru, India  27-Aug-14     Silver    Bills      F  101738\n",
              "3      3  Greater Mumbai, India  12-Apr-14  Signature    Bills      F  123424\n",
              "4      4       Bengaluru, India   5-May-15       Gold    Bills      F  171574"
            ],
            "text/html": [
              "\n",
              "  <div id=\"df-a613af24-58eb-4f48-8f9a-dfeb71b56a27\">\n",
              "    <div class=\"colab-df-container\">\n",
              "      <div>\n",
              "<style scoped>\n",
              "    .dataframe tbody tr th:only-of-type {\n",
              "        vertical-align: middle;\n",
              "    }\n",
              "\n",
              "    .dataframe tbody tr th {\n",
              "        vertical-align: top;\n",
              "    }\n",
              "\n",
              "    .dataframe thead th {\n",
              "        text-align: right;\n",
              "    }\n",
              "</style>\n",
              "<table border=\"1\" class=\"dataframe\">\n",
              "  <thead>\n",
              "    <tr style=\"text-align: right;\">\n",
              "      <th></th>\n",
              "      <th>index</th>\n",
              "      <th>City</th>\n",
              "      <th>Date</th>\n",
              "      <th>Card Type</th>\n",
              "      <th>Exp Type</th>\n",
              "      <th>Gender</th>\n",
              "      <th>Amount</th>\n",
              "    </tr>\n",
              "  </thead>\n",
              "  <tbody>\n",
              "    <tr>\n",
              "      <th>0</th>\n",
              "      <td>0</td>\n",
              "      <td>Delhi, India</td>\n",
              "      <td>29-Oct-14</td>\n",
              "      <td>Gold</td>\n",
              "      <td>Bills</td>\n",
              "      <td>F</td>\n",
              "      <td>82475</td>\n",
              "    </tr>\n",
              "    <tr>\n",
              "      <th>1</th>\n",
              "      <td>1</td>\n",
              "      <td>Greater Mumbai, India</td>\n",
              "      <td>22-Aug-14</td>\n",
              "      <td>Platinum</td>\n",
              "      <td>Bills</td>\n",
              "      <td>F</td>\n",
              "      <td>32555</td>\n",
              "    </tr>\n",
              "    <tr>\n",
              "      <th>2</th>\n",
              "      <td>2</td>\n",
              "      <td>Bengaluru, India</td>\n",
              "      <td>27-Aug-14</td>\n",
              "      <td>Silver</td>\n",
              "      <td>Bills</td>\n",
              "      <td>F</td>\n",
              "      <td>101738</td>\n",
              "    </tr>\n",
              "    <tr>\n",
              "      <th>3</th>\n",
              "      <td>3</td>\n",
              "      <td>Greater Mumbai, India</td>\n",
              "      <td>12-Apr-14</td>\n",
              "      <td>Signature</td>\n",
              "      <td>Bills</td>\n",
              "      <td>F</td>\n",
              "      <td>123424</td>\n",
              "    </tr>\n",
              "    <tr>\n",
              "      <th>4</th>\n",
              "      <td>4</td>\n",
              "      <td>Bengaluru, India</td>\n",
              "      <td>5-May-15</td>\n",
              "      <td>Gold</td>\n",
              "      <td>Bills</td>\n",
              "      <td>F</td>\n",
              "      <td>171574</td>\n",
              "    </tr>\n",
              "  </tbody>\n",
              "</table>\n",
              "</div>\n",
              "      <button class=\"colab-df-convert\" onclick=\"convertToInteractive('df-a613af24-58eb-4f48-8f9a-dfeb71b56a27')\"\n",
              "              title=\"Convert this dataframe to an interactive table.\"\n",
              "              style=\"display:none;\">\n",
              "        \n",
              "  <svg xmlns=\"http://www.w3.org/2000/svg\" height=\"24px\"viewBox=\"0 0 24 24\"\n",
              "       width=\"24px\">\n",
              "    <path d=\"M0 0h24v24H0V0z\" fill=\"none\"/>\n",
              "    <path d=\"M18.56 5.44l.94 2.06.94-2.06 2.06-.94-2.06-.94-.94-2.06-.94 2.06-2.06.94zm-11 1L8.5 8.5l.94-2.06 2.06-.94-2.06-.94L8.5 2.5l-.94 2.06-2.06.94zm10 10l.94 2.06.94-2.06 2.06-.94-2.06-.94-.94-2.06-.94 2.06-2.06.94z\"/><path d=\"M17.41 7.96l-1.37-1.37c-.4-.4-.92-.59-1.43-.59-.52 0-1.04.2-1.43.59L10.3 9.45l-7.72 7.72c-.78.78-.78 2.05 0 2.83L4 21.41c.39.39.9.59 1.41.59.51 0 1.02-.2 1.41-.59l7.78-7.78 2.81-2.81c.8-.78.8-2.07 0-2.86zM5.41 20L4 18.59l7.72-7.72 1.47 1.35L5.41 20z\"/>\n",
              "  </svg>\n",
              "      </button>\n",
              "      \n",
              "  <style>\n",
              "    .colab-df-container {\n",
              "      display:flex;\n",
              "      flex-wrap:wrap;\n",
              "      gap: 12px;\n",
              "    }\n",
              "\n",
              "    .colab-df-convert {\n",
              "      background-color: #E8F0FE;\n",
              "      border: none;\n",
              "      border-radius: 50%;\n",
              "      cursor: pointer;\n",
              "      display: none;\n",
              "      fill: #1967D2;\n",
              "      height: 32px;\n",
              "      padding: 0 0 0 0;\n",
              "      width: 32px;\n",
              "    }\n",
              "\n",
              "    .colab-df-convert:hover {\n",
              "      background-color: #E2EBFA;\n",
              "      box-shadow: 0px 1px 2px rgba(60, 64, 67, 0.3), 0px 1px 3px 1px rgba(60, 64, 67, 0.15);\n",
              "      fill: #174EA6;\n",
              "    }\n",
              "\n",
              "    [theme=dark] .colab-df-convert {\n",
              "      background-color: #3B4455;\n",
              "      fill: #D2E3FC;\n",
              "    }\n",
              "\n",
              "    [theme=dark] .colab-df-convert:hover {\n",
              "      background-color: #434B5C;\n",
              "      box-shadow: 0px 1px 3px 1px rgba(0, 0, 0, 0.15);\n",
              "      filter: drop-shadow(0px 1px 2px rgba(0, 0, 0, 0.3));\n",
              "      fill: #FFFFFF;\n",
              "    }\n",
              "  </style>\n",
              "\n",
              "      <script>\n",
              "        const buttonEl =\n",
              "          document.querySelector('#df-a613af24-58eb-4f48-8f9a-dfeb71b56a27 button.colab-df-convert');\n",
              "        buttonEl.style.display =\n",
              "          google.colab.kernel.accessAllowed ? 'block' : 'none';\n",
              "\n",
              "        async function convertToInteractive(key) {\n",
              "          const element = document.querySelector('#df-a613af24-58eb-4f48-8f9a-dfeb71b56a27');\n",
              "          const dataTable =\n",
              "            await google.colab.kernel.invokeFunction('convertToInteractive',\n",
              "                                                     [key], {});\n",
              "          if (!dataTable) return;\n",
              "\n",
              "          const docLinkHtml = 'Like what you see? Visit the ' +\n",
              "            '<a target=\"_blank\" href=https://colab.research.google.com/notebooks/data_table.ipynb>data table notebook</a>'\n",
              "            + ' to learn more about interactive tables.';\n",
              "          element.innerHTML = '';\n",
              "          dataTable['output_type'] = 'display_data';\n",
              "          await google.colab.output.renderOutput(dataTable, element);\n",
              "          const docLink = document.createElement('div');\n",
              "          docLink.innerHTML = docLinkHtml;\n",
              "          element.appendChild(docLink);\n",
              "        }\n",
              "      </script>\n",
              "    </div>\n",
              "  </div>\n",
              "  "
            ]
          },
          "metadata": {},
          "execution_count": 89
        }
      ],
      "source": [
        "data.head()"
      ]
    },
    {
      "cell_type": "code",
      "execution_count": null,
      "metadata": {
        "colab": {
          "base_uri": "https://localhost:8080/"
        },
        "id": "EycYMK8UKlOc",
        "outputId": "b9e73b31-e5ef-454a-e95a-42b68c0e256b"
      },
      "outputs": [
        {
          "output_type": "stream",
          "name": "stdout",
          "text": [
            "Looking in indexes: https://pypi.org/simple, https://us-python.pkg.dev/colab-wheels/public/simple/\n",
            "Requirement already satisfied: pyspark in /usr/local/lib/python3.8/dist-packages (3.3.1)\n",
            "Requirement already satisfied: py4j in /usr/local/lib/python3.8/dist-packages (0.10.9.5)\n"
          ]
        }
      ],
      "source": [
        "!pip install pyspark py4j"
      ]
    },
    {
      "cell_type": "code",
      "execution_count": null,
      "metadata": {
        "id": "3dqRrKbEL4yd"
      },
      "outputs": [],
      "source": [
        "from pyspark.sql import SparkSession"
      ]
    },
    {
      "cell_type": "code",
      "execution_count": null,
      "metadata": {
        "id": "Ug5I5dN4MMq3"
      },
      "outputs": [],
      "source": [
        "spark = SparkSession.builder.getOrCreate()"
      ]
    },
    {
      "cell_type": "code",
      "execution_count": null,
      "metadata": {
        "id": "wXszA4OvrgH6"
      },
      "outputs": [],
      "source": [
        "spark.conf.set(\"spark.sql.legacy.timeParserPolicy\",\"LEGACY\")"
      ]
    },
    {
      "cell_type": "code",
      "execution_count": null,
      "metadata": {
        "id": "uEHsZGlIMm6J"
      },
      "outputs": [],
      "source": [
        "DF = spark.read.csv(\"/content/drive/MyDrive/data/Creditcard.csv\", inferSchema=True, header = True)"
      ]
    },
    {
      "cell_type": "code",
      "execution_count": null,
      "metadata": {
        "colab": {
          "base_uri": "https://localhost:8080/"
        },
        "id": "qxyCwsEpYcKx",
        "outputId": "72539842-c904-4adb-8c1c-8b7f0264f099"
      },
      "outputs": [
        {
          "output_type": "stream",
          "name": "stdout",
          "text": [
            "+-----+--------------------+---------+---------+--------+------+------+\n",
            "|index|                City|     Date|Card Type|Exp Type|Gender|Amount|\n",
            "+-----+--------------------+---------+---------+--------+------+------+\n",
            "|    0|        Delhi, India|29-Oct-14|     Gold|   Bills|     F| 82475|\n",
            "|    1|Greater Mumbai, I...|22-Aug-14| Platinum|   Bills|     F| 32555|\n",
            "|    2|    Bengaluru, India|27-Aug-14|   Silver|   Bills|     F|101738|\n",
            "|    3|Greater Mumbai, I...|12-Apr-14|Signature|   Bills|     F|123424|\n",
            "|    4|    Bengaluru, India| 5-May-15|     Gold|   Bills|     F|171574|\n",
            "|    5|        Delhi, India| 8-Sep-14|   Silver|   Bills|     F|100036|\n",
            "|    6|        Delhi, India|24-Feb-15|     Gold|   Bills|     F|143250|\n",
            "|    7|Greater Mumbai, I...|26-Jun-14| Platinum|   Bills|     F|150980|\n",
            "|    8|        Delhi, India|28-Mar-14|   Silver|   Bills|     F|192247|\n",
            "|    9|        Delhi, India| 1-Sep-14| Platinum|   Bills|     F| 67932|\n",
            "|   10|        Delhi, India|22-Jun-14| Platinum|   Bills|     F|280061|\n",
            "|   11|Greater Mumbai, I...| 7-Dec-13|Signature|   Bills|     F|278036|\n",
            "|   12|Greater Mumbai, I...| 7-Aug-14|     Gold|   Bills|     F| 19226|\n",
            "|   13|        Delhi, India|27-Apr-14|Signature|   Bills|     F|254359|\n",
            "|   14|Greater Mumbai, I...|15-Aug-14|Signature|   Bills|     F|302834|\n",
            "|   15|Greater Mumbai, I...|28-Nov-14| Platinum|   Bills|     F|647116|\n",
            "|   16|Greater Mumbai, I...|14-Jun-14|Signature|   Bills|     F|421878|\n",
            "|   17|Greater Mumbai, I...|30-Mar-15|     Gold|   Bills|     F|986379|\n",
            "|   18|Greater Mumbai, I...|15-Mar-14| Platinum|   Bills|     F|213047|\n",
            "|   19|Greater Mumbai, I...| 9-Nov-13| Platinum|   Bills|     F|735566|\n",
            "+-----+--------------------+---------+---------+--------+------+------+\n",
            "only showing top 20 rows\n",
            "\n"
          ]
        }
      ],
      "source": [
        "DF.show()"
      ]
    },
    {
      "cell_type": "code",
      "execution_count": null,
      "metadata": {
        "id": "3ej8kwUwYiHr"
      },
      "outputs": [],
      "source": [
        "DF = DF.withColumnRenamed(\"Card Type\",\"CardType\")"
      ]
    },
    {
      "cell_type": "code",
      "execution_count": null,
      "metadata": {
        "id": "OXHRSFLVZCXp"
      },
      "outputs": [],
      "source": [
        "DF = DF.withColumnRenamed(\"Exp Type\",\"ExpType\")"
      ]
    },
    {
      "cell_type": "code",
      "execution_count": null,
      "metadata": {
        "colab": {
          "base_uri": "https://localhost:8080/"
        },
        "id": "hihZDVBeZRUa",
        "outputId": "eecf55db-3cc9-4585-b804-90cbf0696dbc"
      },
      "outputs": [
        {
          "output_type": "stream",
          "name": "stdout",
          "text": [
            "+-----+--------------------+---------+---------+-------+------+------+\n",
            "|index|                City|     Date| CardType|ExpType|Gender|Amount|\n",
            "+-----+--------------------+---------+---------+-------+------+------+\n",
            "|    0|        Delhi, India|29-Oct-14|     Gold|  Bills|     F| 82475|\n",
            "|    1|Greater Mumbai, I...|22-Aug-14| Platinum|  Bills|     F| 32555|\n",
            "|    2|    Bengaluru, India|27-Aug-14|   Silver|  Bills|     F|101738|\n",
            "|    3|Greater Mumbai, I...|12-Apr-14|Signature|  Bills|     F|123424|\n",
            "|    4|    Bengaluru, India| 5-May-15|     Gold|  Bills|     F|171574|\n",
            "|    5|        Delhi, India| 8-Sep-14|   Silver|  Bills|     F|100036|\n",
            "|    6|        Delhi, India|24-Feb-15|     Gold|  Bills|     F|143250|\n",
            "|    7|Greater Mumbai, I...|26-Jun-14| Platinum|  Bills|     F|150980|\n",
            "|    8|        Delhi, India|28-Mar-14|   Silver|  Bills|     F|192247|\n",
            "|    9|        Delhi, India| 1-Sep-14| Platinum|  Bills|     F| 67932|\n",
            "|   10|        Delhi, India|22-Jun-14| Platinum|  Bills|     F|280061|\n",
            "|   11|Greater Mumbai, I...| 7-Dec-13|Signature|  Bills|     F|278036|\n",
            "|   12|Greater Mumbai, I...| 7-Aug-14|     Gold|  Bills|     F| 19226|\n",
            "|   13|        Delhi, India|27-Apr-14|Signature|  Bills|     F|254359|\n",
            "|   14|Greater Mumbai, I...|15-Aug-14|Signature|  Bills|     F|302834|\n",
            "|   15|Greater Mumbai, I...|28-Nov-14| Platinum|  Bills|     F|647116|\n",
            "|   16|Greater Mumbai, I...|14-Jun-14|Signature|  Bills|     F|421878|\n",
            "|   17|Greater Mumbai, I...|30-Mar-15|     Gold|  Bills|     F|986379|\n",
            "|   18|Greater Mumbai, I...|15-Mar-14| Platinum|  Bills|     F|213047|\n",
            "|   19|Greater Mumbai, I...| 9-Nov-13| Platinum|  Bills|     F|735566|\n",
            "+-----+--------------------+---------+---------+-------+------+------+\n",
            "only showing top 20 rows\n",
            "\n"
          ]
        }
      ],
      "source": [
        "DF.show()"
      ]
    },
    {
      "cell_type": "code",
      "execution_count": null,
      "metadata": {
        "colab": {
          "base_uri": "https://localhost:8080/"
        },
        "id": "vGcCOi3GZW-z",
        "outputId": "c5d2bdda-1837-4af9-f659-e72eff3918ee"
      },
      "outputs": [
        {
          "output_type": "stream",
          "name": "stdout",
          "text": [
            "+-----+----+----+--------+-------+------+------+\n",
            "|index|City|Date|CardType|ExpType|Gender|Amount|\n",
            "+-----+----+----+--------+-------+------+------+\n",
            "+-----+----+----+--------+-------+------+------+\n",
            "\n"
          ]
        }
      ],
      "source": [
        "DF.filter(DF.City.isNull()).show()"
      ]
    },
    {
      "cell_type": "code",
      "execution_count": null,
      "metadata": {
        "id": "i-ukzSRcZvk_"
      },
      "outputs": [],
      "source": []
    },
    {
      "cell_type": "code",
      "execution_count": null,
      "metadata": {
        "colab": {
          "base_uri": "https://localhost:8080/"
        },
        "id": "VZjtA12iZxXF",
        "outputId": "a7a02850-cfa6-4731-e830-f31fcc7cecd1"
      },
      "outputs": [
        {
          "output_type": "stream",
          "name": "stdout",
          "text": [
            "+-----+----+----+--------+-------+------+------+\n",
            "|index|City|Date|CardType|ExpType|Gender|Amount|\n",
            "+-----+----+----+--------+-------+------+------+\n",
            "+-----+----+----+--------+-------+------+------+\n",
            "\n"
          ]
        }
      ],
      "source": [
        "DF.filter(DF.Date.isNull()).show()"
      ]
    },
    {
      "cell_type": "code",
      "execution_count": null,
      "metadata": {
        "id": "ZgoB9BB5Z1ml"
      },
      "outputs": [],
      "source": []
    },
    {
      "cell_type": "code",
      "execution_count": null,
      "metadata": {
        "colab": {
          "base_uri": "https://localhost:8080/"
        },
        "id": "T1UbqDN2Z2M5",
        "outputId": "5fcb17bb-0f48-4c99-e8d3-c75a604cc9df"
      },
      "outputs": [
        {
          "output_type": "stream",
          "name": "stdout",
          "text": [
            "+-----+----+----+--------+-------+------+------+\n",
            "|index|City|Date|CardType|ExpType|Gender|Amount|\n",
            "+-----+----+----+--------+-------+------+------+\n",
            "+-----+----+----+--------+-------+------+------+\n",
            "\n"
          ]
        }
      ],
      "source": [
        "DF.filter(DF.CardType.isNull()).show()"
      ]
    },
    {
      "cell_type": "code",
      "execution_count": null,
      "metadata": {
        "id": "hxdeAwjAZ6wV"
      },
      "outputs": [],
      "source": []
    },
    {
      "cell_type": "code",
      "execution_count": null,
      "metadata": {
        "colab": {
          "base_uri": "https://localhost:8080/"
        },
        "id": "Ck_tWChdZ-_s",
        "outputId": "d0359321-72ed-47a4-bcc3-e6fa52318fed"
      },
      "outputs": [
        {
          "output_type": "stream",
          "name": "stdout",
          "text": [
            "+-----+----+----+--------+-------+------+------+\n",
            "|index|City|Date|CardType|ExpType|Gender|Amount|\n",
            "+-----+----+----+--------+-------+------+------+\n",
            "+-----+----+----+--------+-------+------+------+\n",
            "\n"
          ]
        }
      ],
      "source": [
        "DF.filter(DF.ExpType.isNull()).show()"
      ]
    },
    {
      "cell_type": "code",
      "execution_count": null,
      "metadata": {
        "id": "yO0xjYVyaFA0"
      },
      "outputs": [],
      "source": []
    },
    {
      "cell_type": "code",
      "execution_count": null,
      "metadata": {
        "colab": {
          "base_uri": "https://localhost:8080/"
        },
        "id": "Uv6nm7_aaF0N",
        "outputId": "932a7a93-4c0b-4896-f412-ed2fbc23aaf7"
      },
      "outputs": [
        {
          "output_type": "stream",
          "name": "stdout",
          "text": [
            "+-----+----+----+--------+-------+------+------+\n",
            "|index|City|Date|CardType|ExpType|Gender|Amount|\n",
            "+-----+----+----+--------+-------+------+------+\n",
            "+-----+----+----+--------+-------+------+------+\n",
            "\n"
          ]
        }
      ],
      "source": [
        "DF.filter(DF.Gender.isNull()).show()"
      ]
    },
    {
      "cell_type": "code",
      "execution_count": null,
      "metadata": {
        "id": "eSgJRaTLaJWx"
      },
      "outputs": [],
      "source": []
    },
    {
      "cell_type": "code",
      "execution_count": null,
      "metadata": {
        "colab": {
          "base_uri": "https://localhost:8080/"
        },
        "id": "95UvGphxaJyn",
        "outputId": "99d3e0c6-a0e0-47b0-9a48-d825d7e2f674"
      },
      "outputs": [
        {
          "output_type": "stream",
          "name": "stdout",
          "text": [
            "+-----+----+----+--------+-------+------+------+\n",
            "|index|City|Date|CardType|ExpType|Gender|Amount|\n",
            "+-----+----+----+--------+-------+------+------+\n",
            "+-----+----+----+--------+-------+------+------+\n",
            "\n"
          ]
        }
      ],
      "source": [
        "DF.filter(DF.Amount.isNull()).show()"
      ]
    },
    {
      "cell_type": "code",
      "execution_count": null,
      "metadata": {
        "colab": {
          "base_uri": "https://localhost:8080/"
        },
        "id": "3tM0Kop4br7K",
        "outputId": "fee7bce2-eb19-4d70-a917-81118938d885"
      },
      "outputs": [
        {
          "output_type": "stream",
          "name": "stdout",
          "text": [
            "root\n",
            " |-- index: integer (nullable = true)\n",
            " |-- City: string (nullable = true)\n",
            " |-- Date: string (nullable = true)\n",
            " |-- CardType: string (nullable = true)\n",
            " |-- ExpType: string (nullable = true)\n",
            " |-- Gender: string (nullable = true)\n",
            " |-- Amount: integer (nullable = true)\n",
            "\n"
          ]
        }
      ],
      "source": [
        "DF.printSchema()"
      ]
    },
    {
      "cell_type": "code",
      "execution_count": null,
      "metadata": {
        "colab": {
          "base_uri": "https://localhost:8080/"
        },
        "id": "2FdfwbxKctcv",
        "outputId": "edb21f28-1bcb-440f-81e5-bde90db11b3e"
      },
      "outputs": [
        {
          "output_type": "stream",
          "name": "stdout",
          "text": [
            "+-------+-----------------+----------------+--------+--------+-------+------+------------------+\n",
            "|summary|            index|            City|    Date|CardType|ExpType|Gender|            Amount|\n",
            "+-------+-----------------+----------------+--------+--------+-------+------+------------------+\n",
            "|  count|            26052|           26052|   26052|   26052|  26052| 26052|             26052|\n",
            "|   mean|          13025.5|            null|    null|    null|   null|  null| 156411.5374251497|\n",
            "| stddev|7520.708942646298|            null|    null|    null|   null|  null|103063.25428673124|\n",
            "|    min|                0| Achalpur, India|1-Apr-14|    Gold|  Bills|     F|              1005|\n",
            "|    max|            26051|Zunheboto, India|9-Sep-14|  Silver| Travel|     M|            998077|\n",
            "+-------+-----------------+----------------+--------+--------+-------+------+------------------+\n",
            "\n"
          ]
        }
      ],
      "source": [
        "DF.describe().show()"
      ]
    },
    {
      "cell_type": "code",
      "execution_count": null,
      "metadata": {
        "id": "jM8v9PQOf0Pt"
      },
      "outputs": [],
      "source": [
        "from pyspark.sql.functions import to_date,col"
      ]
    },
    {
      "cell_type": "code",
      "execution_count": null,
      "metadata": {
        "id": "bUQeBaSwmY44"
      },
      "outputs": [],
      "source": [
        "from pyspark.sql import functions as F"
      ]
    },
    {
      "cell_type": "code",
      "execution_count": null,
      "metadata": {
        "id": "nsPq9Jv2pFOJ"
      },
      "outputs": [],
      "source": [
        "DF = DF.withColumn(\"Date\" , F.regexp_replace(\"Date\" , \"Jan\" , \"01\"))"
      ]
    },
    {
      "cell_type": "code",
      "execution_count": null,
      "metadata": {
        "id": "YQyOezaYp23c"
      },
      "outputs": [],
      "source": [
        "DF = DF.withColumn(\"Date\" , F.regexp_replace(\"Date\" , \"Feb\" , \"02\"))"
      ]
    },
    {
      "cell_type": "code",
      "execution_count": null,
      "metadata": {
        "id": "tee9RWqLp_WX"
      },
      "outputs": [],
      "source": [
        "DF = DF.withColumn(\"Date\" , F.regexp_replace(\"Date\" , \"Mar\" , \"03\"))"
      ]
    },
    {
      "cell_type": "code",
      "execution_count": null,
      "metadata": {
        "id": "VbVoY7j5qFTH"
      },
      "outputs": [],
      "source": [
        "DF = DF.withColumn(\"Date\" , F.regexp_replace(\"Date\" , \"Apr\" , \"04\"))"
      ]
    },
    {
      "cell_type": "code",
      "execution_count": null,
      "metadata": {
        "id": "Yd3MPOdxqLvB"
      },
      "outputs": [],
      "source": [
        "DF = DF.withColumn(\"Date\" , F.regexp_replace(\"Date\" , \"May\" , \"05\"))"
      ]
    },
    {
      "cell_type": "code",
      "execution_count": null,
      "metadata": {
        "id": "OKS_YRLAqRJ2"
      },
      "outputs": [],
      "source": [
        "DF = DF.withColumn(\"Date\" , F.regexp_replace(\"Date\" , \"Jun\" , \"06\"))"
      ]
    },
    {
      "cell_type": "code",
      "execution_count": null,
      "metadata": {
        "id": "HxxIlfJwqVwy"
      },
      "outputs": [],
      "source": [
        "DF = DF.withColumn(\"Date\" , F.regexp_replace(\"Date\" , \"Jul\" , \"07\"))"
      ]
    },
    {
      "cell_type": "code",
      "execution_count": null,
      "metadata": {
        "id": "XDzYyEtiqZ6I"
      },
      "outputs": [],
      "source": [
        "DF = DF.withColumn(\"Date\" , F.regexp_replace(\"Date\" , \"Aug\" , \"08\"))"
      ]
    },
    {
      "cell_type": "code",
      "execution_count": null,
      "metadata": {
        "id": "5mqjVgkHqefh"
      },
      "outputs": [],
      "source": [
        "DF = DF.withColumn(\"Date\" , F.regexp_replace(\"Date\" , \"Sep\" , \"09\"))"
      ]
    },
    {
      "cell_type": "code",
      "execution_count": null,
      "metadata": {
        "id": "xOMwLlHhqjEf"
      },
      "outputs": [],
      "source": [
        "DF = DF.withColumn(\"Date\" , F.regexp_replace(\"Date\" , \"Oct\" , \"10\"))"
      ]
    },
    {
      "cell_type": "code",
      "execution_count": null,
      "metadata": {
        "id": "Vq6gJXOhqoug"
      },
      "outputs": [],
      "source": [
        "DF = DF.withColumn(\"Date\" , F.regexp_replace(\"Date\" , \"Nov\" , \"11\"))"
      ]
    },
    {
      "cell_type": "code",
      "execution_count": null,
      "metadata": {
        "id": "R_AVhyLOqtf2"
      },
      "outputs": [],
      "source": [
        "DF = DF.withColumn(\"Date\" , F.regexp_replace(\"Date\" , \"Dec\" , \"12\"))"
      ]
    },
    {
      "cell_type": "code",
      "execution_count": null,
      "metadata": {
        "colab": {
          "base_uri": "https://localhost:8080/"
        },
        "id": "MpBDzxgXqxdz",
        "outputId": "18b8459a-ac3f-43ca-b6c9-52f4ee28f542"
      },
      "outputs": [
        {
          "output_type": "stream",
          "name": "stdout",
          "text": [
            "+-----+--------------------+--------+---------+-------+------+------+\n",
            "|index|                City|    Date| CardType|ExpType|Gender|Amount|\n",
            "+-----+--------------------+--------+---------+-------+------+------+\n",
            "|    0|        Delhi, India|29-10-14|     Gold|  Bills|     F| 82475|\n",
            "|    1|Greater Mumbai, I...|22-08-14| Platinum|  Bills|     F| 32555|\n",
            "|    2|    Bengaluru, India|27-08-14|   Silver|  Bills|     F|101738|\n",
            "|    3|Greater Mumbai, I...|12-04-14|Signature|  Bills|     F|123424|\n",
            "|    4|    Bengaluru, India| 5-05-15|     Gold|  Bills|     F|171574|\n",
            "|    5|        Delhi, India| 8-09-14|   Silver|  Bills|     F|100036|\n",
            "|    6|        Delhi, India|24-02-15|     Gold|  Bills|     F|143250|\n",
            "|    7|Greater Mumbai, I...|26-06-14| Platinum|  Bills|     F|150980|\n",
            "|    8|        Delhi, India|28-03-14|   Silver|  Bills|     F|192247|\n",
            "|    9|        Delhi, India| 1-09-14| Platinum|  Bills|     F| 67932|\n",
            "|   10|        Delhi, India|22-06-14| Platinum|  Bills|     F|280061|\n",
            "|   11|Greater Mumbai, I...| 7-12-13|Signature|  Bills|     F|278036|\n",
            "|   12|Greater Mumbai, I...| 7-08-14|     Gold|  Bills|     F| 19226|\n",
            "|   13|        Delhi, India|27-04-14|Signature|  Bills|     F|254359|\n",
            "|   14|Greater Mumbai, I...|15-08-14|Signature|  Bills|     F|302834|\n",
            "|   15|Greater Mumbai, I...|28-11-14| Platinum|  Bills|     F|647116|\n",
            "|   16|Greater Mumbai, I...|14-06-14|Signature|  Bills|     F|421878|\n",
            "|   17|Greater Mumbai, I...|30-03-15|     Gold|  Bills|     F|986379|\n",
            "|   18|Greater Mumbai, I...|15-03-14| Platinum|  Bills|     F|213047|\n",
            "|   19|Greater Mumbai, I...| 9-11-13| Platinum|  Bills|     F|735566|\n",
            "+-----+--------------------+--------+---------+-------+------+------+\n",
            "only showing top 20 rows\n",
            "\n"
          ]
        }
      ],
      "source": [
        "DF.show()"
      ]
    },
    {
      "cell_type": "code",
      "execution_count": null,
      "metadata": {
        "id": "eDrB4iRarDtB"
      },
      "outputs": [],
      "source": [
        "DF = DF.withColumn(\"Date\",to_date(\"Date\",\"dd-MM-yy\"))"
      ]
    },
    {
      "cell_type": "code",
      "execution_count": null,
      "metadata": {
        "colab": {
          "base_uri": "https://localhost:8080/"
        },
        "id": "A9vjCAIDsOyz",
        "outputId": "05a7a238-c8f8-46b0-cd00-8da7a23353e2"
      },
      "outputs": [
        {
          "output_type": "stream",
          "name": "stdout",
          "text": [
            "root\n",
            " |-- index: integer (nullable = true)\n",
            " |-- City: string (nullable = true)\n",
            " |-- Date: date (nullable = true)\n",
            " |-- CardType: string (nullable = true)\n",
            " |-- ExpType: string (nullable = true)\n",
            " |-- Gender: string (nullable = true)\n",
            " |-- Amount: integer (nullable = true)\n",
            "\n"
          ]
        }
      ],
      "source": [
        "DF.printSchema()"
      ]
    },
    {
      "cell_type": "code",
      "source": [
        "DF = DF.drop(col(\"index\"))"
      ],
      "metadata": {
        "id": "rWsjQlnUv0lt"
      },
      "execution_count": null,
      "outputs": []
    },
    {
      "cell_type": "code",
      "source": [
        "DF = DF.withColumn('year', col('Date').substr(1,4))"
      ],
      "metadata": {
        "id": "thswpjoWwAzh"
      },
      "execution_count": null,
      "outputs": []
    },
    {
      "cell_type": "code",
      "source": [
        "DF = DF.drop(col(\"Date\"))"
      ],
      "metadata": {
        "id": "sKIqY2OawLzM"
      },
      "execution_count": null,
      "outputs": []
    },
    {
      "cell_type": "code",
      "execution_count": null,
      "metadata": {
        "colab": {
          "base_uri": "https://localhost:8080/"
        },
        "id": "SNobsSAZRsAT",
        "outputId": "f8765f87-64b5-4fc1-e3c0-7912263085bb"
      },
      "outputs": [
        {
          "output_type": "stream",
          "name": "stderr",
          "text": [
            "<ipython-input-127-abc01cf6c622>:1: FutureWarning: Dropping of nuisance columns in DataFrame reductions (with 'numeric_only=None') is deprecated; in a future version this will raise TypeError.  Select only valid columns before calling the reduction.\n",
            "  data.mean()\n"
          ]
        },
        {
          "output_type": "execute_result",
          "data": {
            "text/plain": [
              "index      13025.500000\n",
              "Amount    156411.537425\n",
              "dtype: float64"
            ]
          },
          "metadata": {},
          "execution_count": 127
        }
      ],
      "source": [
        "data.mean()\n"
      ]
    },
    {
      "cell_type": "code",
      "execution_count": null,
      "metadata": {
        "id": "VM1HGGOReTY7"
      },
      "outputs": [],
      "source": [
        "import numpy as np\n"
      ]
    },
    {
      "cell_type": "code",
      "execution_count": null,
      "metadata": {
        "id": "rW7RCyGO6-mH"
      },
      "outputs": [],
      "source": [
        "import pandas as pd"
      ]
    },
    {
      "cell_type": "code",
      "source": [
        "DF = DF.withColumn(\n",
        "    'spending',\n",
        "    F.when((F.col(\"Amount\") >= '156422'), 1)\\\n",
        "    .when((F.col(\"Amount\") < '156411') , 0)\\\n",
        "    .otherwise(0)\n",
        ")"
      ],
      "metadata": {
        "id": "6LCsBey9Bd5k"
      },
      "execution_count": null,
      "outputs": []
    },
    {
      "cell_type": "code",
      "source": [
        "DF.show()"
      ],
      "metadata": {
        "colab": {
          "base_uri": "https://localhost:8080/"
        },
        "id": "crvRp90pCuhq",
        "outputId": "486a2ddd-d01c-48be-8e2e-04ee29781e16"
      },
      "execution_count": null,
      "outputs": [
        {
          "output_type": "stream",
          "name": "stdout",
          "text": [
            "+--------------------+---------+-------+------+------+----+--------+\n",
            "|                City| CardType|ExpType|Gender|Amount|year|spending|\n",
            "+--------------------+---------+-------+------+------+----+--------+\n",
            "|        Delhi, India|     Gold|  Bills|     F| 82475|2014|       0|\n",
            "|Greater Mumbai, I...| Platinum|  Bills|     F| 32555|2014|       0|\n",
            "|    Bengaluru, India|   Silver|  Bills|     F|101738|2014|       0|\n",
            "|Greater Mumbai, I...|Signature|  Bills|     F|123424|2014|       0|\n",
            "|    Bengaluru, India|     Gold|  Bills|     F|171574|2015|       1|\n",
            "|        Delhi, India|   Silver|  Bills|     F|100036|2014|       0|\n",
            "|        Delhi, India|     Gold|  Bills|     F|143250|2015|       0|\n",
            "|Greater Mumbai, I...| Platinum|  Bills|     F|150980|2014|       0|\n",
            "|        Delhi, India|   Silver|  Bills|     F|192247|2014|       1|\n",
            "|        Delhi, India| Platinum|  Bills|     F| 67932|2014|       0|\n",
            "|        Delhi, India| Platinum|  Bills|     F|280061|2014|       1|\n",
            "|Greater Mumbai, I...|Signature|  Bills|     F|278036|2013|       1|\n",
            "|Greater Mumbai, I...|     Gold|  Bills|     F| 19226|2014|       0|\n",
            "|        Delhi, India|Signature|  Bills|     F|254359|2014|       1|\n",
            "|Greater Mumbai, I...|Signature|  Bills|     F|302834|2014|       1|\n",
            "|Greater Mumbai, I...| Platinum|  Bills|     F|647116|2014|       1|\n",
            "|Greater Mumbai, I...|Signature|  Bills|     F|421878|2014|       1|\n",
            "|Greater Mumbai, I...|     Gold|  Bills|     F|986379|2015|       1|\n",
            "|Greater Mumbai, I...| Platinum|  Bills|     F|213047|2014|       1|\n",
            "|Greater Mumbai, I...| Platinum|  Bills|     F|735566|2013|       1|\n",
            "+--------------------+---------+-------+------+------+----+--------+\n",
            "only showing top 20 rows\n",
            "\n"
          ]
        }
      ]
    },
    {
      "cell_type": "code",
      "source": [
        "DF.printSchema"
      ],
      "metadata": {
        "colab": {
          "base_uri": "https://localhost:8080/"
        },
        "id": "kAy0JFWR3xen",
        "outputId": "83742978-cc2c-48e6-f69b-52c669c4a7d3"
      },
      "execution_count": null,
      "outputs": [
        {
          "output_type": "execute_result",
          "data": {
            "text/plain": [
              "<bound method DataFrame.printSchema of DataFrame[City: string, CardType: string, ExpType: string, Gender: string, Amount: int, year: string, spending: int]>"
            ]
          },
          "metadata": {},
          "execution_count": 132
        }
      ]
    },
    {
      "cell_type": "code",
      "source": [
        "DF = DF.withColumn(\"year\",DF.year.cast('int'))"
      ],
      "metadata": {
        "id": "8pAjtuM935jU"
      },
      "execution_count": null,
      "outputs": []
    },
    {
      "cell_type": "code",
      "source": [
        "from pyspark.ml import Pipeline\n",
        "from pyspark.ml.classification import DecisionTreeClassifier\n",
        "from pyspark.ml.feature import StringIndexer, VectorIndexer\n",
        "from pyspark.ml.evaluation import MulticlassClassificationEvaluator"
      ],
      "metadata": {
        "id": "M5mErVzD9qnz"
      },
      "execution_count": null,
      "outputs": []
    },
    {
      "cell_type": "code",
      "source": [
        "from pyspark.ml.linalg import Vectors"
      ],
      "metadata": {
        "id": "jmOjfwzfEBvO"
      },
      "execution_count": null,
      "outputs": []
    },
    {
      "cell_type": "code",
      "source": [
        "from pyspark.ml.feature import VectorAssembler"
      ],
      "metadata": {
        "id": "Ru5bL7zKE2UQ"
      },
      "execution_count": null,
      "outputs": []
    },
    {
      "cell_type": "code",
      "source": [
        "from pyspark.ml.feature import StringIndexer"
      ],
      "metadata": {
        "id": "U_2TtrInM9um"
      },
      "execution_count": null,
      "outputs": []
    },
    {
      "cell_type": "code",
      "source": [
        "indexerC = StringIndexer(inputCol=\"City\", outputCol=\"CityIndex\")"
      ],
      "metadata": {
        "id": "-jfjEiCINUZQ"
      },
      "execution_count": null,
      "outputs": []
    },
    {
      "cell_type": "code",
      "source": [
        "DF = indexerC.fit(DF).transform(DF)"
      ],
      "metadata": {
        "id": "ONfsnuNyNkk-"
      },
      "execution_count": null,
      "outputs": []
    },
    {
      "cell_type": "code",
      "source": [
        "indexerD = StringIndexer(inputCol=\"CardType\", outputCol=\"CardIndex\")"
      ],
      "metadata": {
        "id": "dUFF5FehN_mK"
      },
      "execution_count": null,
      "outputs": []
    },
    {
      "cell_type": "code",
      "source": [
        "DF = indexerD.fit(DF).transform(DF)"
      ],
      "metadata": {
        "id": "0_9FDDOoOHuP"
      },
      "execution_count": null,
      "outputs": []
    },
    {
      "cell_type": "code",
      "source": [
        "indexerEx = StringIndexer(inputCol=\"ExpType\", outputCol=\"ExpIndex\")"
      ],
      "metadata": {
        "id": "Ssz3SzkbPAZD"
      },
      "execution_count": null,
      "outputs": []
    },
    {
      "cell_type": "code",
      "source": [
        "DF = indexerEx.fit(DF).transform(DF)"
      ],
      "metadata": {
        "id": "6UMzMAVSPMts"
      },
      "execution_count": null,
      "outputs": []
    },
    {
      "cell_type": "code",
      "source": [
        "indexerG = StringIndexer(inputCol=\"Gender\", outputCol=\"genderIndex\")"
      ],
      "metadata": {
        "id": "nlHUpLFlOney"
      },
      "execution_count": null,
      "outputs": []
    },
    {
      "cell_type": "code",
      "source": [
        "DF = indexerG.fit(DF).transform(DF)"
      ],
      "metadata": {
        "id": "V3fdjvRYOw6S"
      },
      "execution_count": null,
      "outputs": []
    },
    {
      "cell_type": "code",
      "source": [
        "DF.show()"
      ],
      "metadata": {
        "colab": {
          "base_uri": "https://localhost:8080/"
        },
        "id": "yOQnusLQO3qQ",
        "outputId": "d762f126-567b-4781-f975-9342f9032f85"
      },
      "execution_count": null,
      "outputs": [
        {
          "output_type": "stream",
          "name": "stdout",
          "text": [
            "+--------------------+---------+-------+------+------+----+--------+---------+---------+--------+-----------+\n",
            "|                City| CardType|ExpType|Gender|Amount|year|spending|CityIndex|CardIndex|ExpIndex|genderIndex|\n",
            "+--------------------+---------+-------+------+------+----+--------+---------+---------+--------+-----------+\n",
            "|        Delhi, India|     Gold|  Bills|     F| 82475|2014|       0|      3.0|      3.0|     2.0|        0.0|\n",
            "|Greater Mumbai, I...| Platinum|  Bills|     F| 32555|2014|       0|      1.0|      2.0|     2.0|        0.0|\n",
            "|    Bengaluru, India|   Silver|  Bills|     F|101738|2014|       0|      0.0|      0.0|     2.0|        0.0|\n",
            "|Greater Mumbai, I...|Signature|  Bills|     F|123424|2014|       0|      1.0|      1.0|     2.0|        0.0|\n",
            "|    Bengaluru, India|     Gold|  Bills|     F|171574|2015|       1|      0.0|      3.0|     2.0|        0.0|\n",
            "|        Delhi, India|   Silver|  Bills|     F|100036|2014|       0|      3.0|      0.0|     2.0|        0.0|\n",
            "|        Delhi, India|     Gold|  Bills|     F|143250|2015|       0|      3.0|      3.0|     2.0|        0.0|\n",
            "|Greater Mumbai, I...| Platinum|  Bills|     F|150980|2014|       0|      1.0|      2.0|     2.0|        0.0|\n",
            "|        Delhi, India|   Silver|  Bills|     F|192247|2014|       1|      3.0|      0.0|     2.0|        0.0|\n",
            "|        Delhi, India| Platinum|  Bills|     F| 67932|2014|       0|      3.0|      2.0|     2.0|        0.0|\n",
            "|        Delhi, India| Platinum|  Bills|     F|280061|2014|       1|      3.0|      2.0|     2.0|        0.0|\n",
            "|Greater Mumbai, I...|Signature|  Bills|     F|278036|2013|       1|      1.0|      1.0|     2.0|        0.0|\n",
            "|Greater Mumbai, I...|     Gold|  Bills|     F| 19226|2014|       0|      1.0|      3.0|     2.0|        0.0|\n",
            "|        Delhi, India|Signature|  Bills|     F|254359|2014|       1|      3.0|      1.0|     2.0|        0.0|\n",
            "|Greater Mumbai, I...|Signature|  Bills|     F|302834|2014|       1|      1.0|      1.0|     2.0|        0.0|\n",
            "|Greater Mumbai, I...| Platinum|  Bills|     F|647116|2014|       1|      1.0|      2.0|     2.0|        0.0|\n",
            "|Greater Mumbai, I...|Signature|  Bills|     F|421878|2014|       1|      1.0|      1.0|     2.0|        0.0|\n",
            "|Greater Mumbai, I...|     Gold|  Bills|     F|986379|2015|       1|      1.0|      3.0|     2.0|        0.0|\n",
            "|Greater Mumbai, I...| Platinum|  Bills|     F|213047|2014|       1|      1.0|      2.0|     2.0|        0.0|\n",
            "|Greater Mumbai, I...| Platinum|  Bills|     F|735566|2013|       1|      1.0|      2.0|     2.0|        0.0|\n",
            "+--------------------+---------+-------+------+------+----+--------+---------+---------+--------+-----------+\n",
            "only showing top 20 rows\n",
            "\n"
          ]
        }
      ]
    },
    {
      "cell_type": "code",
      "source": [
        "assembler = VectorAssembler(\n",
        "    inputCols=[\"CardIndex\", \"genderIndex\", \"year\", \"ExpIndex\"],\n",
        "    outputCol=\"features\")"
      ],
      "metadata": {
        "id": "awe4Jl2IJH6U"
      },
      "execution_count": null,
      "outputs": []
    },
    {
      "cell_type": "code",
      "source": [
        "label_indexer = StringIndexer().setInputCol(\"spending\").setOutputCol(\"label\")"
      ],
      "metadata": {
        "id": "hvuJ4wHMFcXZ"
      },
      "execution_count": null,
      "outputs": []
    },
    {
      "cell_type": "code",
      "source": [
        "(trainingData, testData) = DF.randomSplit([0.8, 0.2])"
      ],
      "metadata": {
        "id": "DZ5buN2PGBqd"
      },
      "execution_count": null,
      "outputs": []
    },
    {
      "cell_type": "code",
      "source": [
        "dt = DecisionTreeClassifier(labelCol=\"label\", featuresCol=\"features\")"
      ],
      "metadata": {
        "id": "FADxTdZyGH70"
      },
      "execution_count": null,
      "outputs": []
    },
    {
      "cell_type": "code",
      "source": [
        "pipeline = Pipeline(stages=[label_indexer, assembler, dt])"
      ],
      "metadata": {
        "id": "PekzJV8AGcHF"
      },
      "execution_count": null,
      "outputs": []
    },
    {
      "cell_type": "code",
      "source": [
        "model = pipeline.fit(trainingData)"
      ],
      "metadata": {
        "id": "JJvne0n2HqaQ"
      },
      "execution_count": null,
      "outputs": []
    },
    {
      "cell_type": "code",
      "source": [
        "predictions = model.transform(testData)"
      ],
      "metadata": {
        "id": "U69QQDmPKIpL"
      },
      "execution_count": null,
      "outputs": []
    },
    {
      "cell_type": "code",
      "source": [
        "predictions.select(\"prediction\", \"label\", \"features\").show(20)"
      ],
      "metadata": {
        "colab": {
          "base_uri": "https://localhost:8080/"
        },
        "id": "MnkpDCmnKNOo",
        "outputId": "284d9605-0d7e-4093-d91b-5778baaebcef"
      },
      "execution_count": null,
      "outputs": [
        {
          "output_type": "stream",
          "name": "stdout",
          "text": [
            "+----------+-----+--------------------+\n",
            "|prediction|label|            features|\n",
            "+----------+-----+--------------------+\n",
            "|       1.0|  0.0|[3.0,1.0,2015.0,4.0]|\n",
            "|       0.0|  1.0|[1.0,0.0,2014.0,4.0]|\n",
            "|       1.0|  0.0|[0.0,0.0,2015.0,2.0]|\n",
            "|       0.0|  0.0|[2.0,1.0,2014.0,4.0]|\n",
            "|       0.0|  1.0|[0.0,1.0,2014.0,4.0]|\n",
            "|       1.0|  0.0|[2.0,0.0,2015.0,4.0]|\n",
            "|       1.0|  0.0|[3.0,0.0,2014.0,2.0]|\n",
            "|       1.0|  0.0|[2.0,1.0,2013.0,0.0]|\n",
            "|       0.0|  0.0|[1.0,0.0,2014.0,1.0]|\n",
            "|       0.0|  1.0|[0.0,1.0,2014.0,3.0]|\n",
            "|       1.0|  0.0|[3.0,0.0,2015.0,2.0]|\n",
            "|       1.0|  0.0|[3.0,0.0,2014.0,2.0]|\n",
            "|       1.0|  0.0|[3.0,0.0,2014.0,2.0]|\n",
            "|       1.0|  0.0|[3.0,0.0,2014.0,2.0]|\n",
            "|       1.0|  0.0|[3.0,0.0,2014.0,2.0]|\n",
            "|       1.0|  0.0|[3.0,0.0,2013.0,2.0]|\n",
            "|       1.0|  1.0|[3.0,0.0,2014.0,2.0]|\n",
            "|       1.0|  1.0|[3.0,0.0,2014.0,2.0]|\n",
            "|       1.0|  1.0|[3.0,0.0,2014.0,2.0]|\n",
            "|       1.0|  1.0|[3.0,0.0,2014.0,2.0]|\n",
            "+----------+-----+--------------------+\n",
            "only showing top 20 rows\n",
            "\n"
          ]
        }
      ]
    },
    {
      "cell_type": "code",
      "source": [
        "evaluator = MulticlassClassificationEvaluator(\n",
        "    labelCol=\"label\", predictionCol=\"prediction\", metricName=\"accuracy\")"
      ],
      "metadata": {
        "id": "f844vOX5K6Xw"
      },
      "execution_count": null,
      "outputs": []
    },
    {
      "cell_type": "code",
      "source": [
        "accuracy = evaluator.evaluate(predictions)"
      ],
      "metadata": {
        "id": "NPvN_bzvLLQo"
      },
      "execution_count": null,
      "outputs": []
    },
    {
      "cell_type": "code",
      "source": [
        "print(\"Test Error = %g \" % (1.0 - accuracy))"
      ],
      "metadata": {
        "colab": {
          "base_uri": "https://localhost:8080/"
        },
        "id": "dKjmTBivLPsn",
        "outputId": "daa4b30c-4758-4324-92aa-20181d845385"
      },
      "execution_count": null,
      "outputs": [
        {
          "output_type": "stream",
          "name": "stdout",
          "text": [
            "Test Error = 0.483346 \n"
          ]
        }
      ]
    },
    {
      "cell_type": "code",
      "source": [
        "treeModel = model.stages[2]"
      ],
      "metadata": {
        "id": "wG2hwKMWLT-u"
      },
      "execution_count": null,
      "outputs": []
    },
    {
      "cell_type": "code",
      "source": [
        "print(treeModel)"
      ],
      "metadata": {
        "colab": {
          "base_uri": "https://localhost:8080/"
        },
        "id": "kVCrvjzELXLW",
        "outputId": "9a0fa006-b1f9-4639-b80e-9c287739a7c2"
      },
      "execution_count": null,
      "outputs": [
        {
          "output_type": "stream",
          "name": "stdout",
          "text": [
            "DecisionTreeClassificationModel: uid=DecisionTreeClassifier_3d46e6f408c6, depth=5, numNodes=41, numClasses=2, numFeatures=4\n"
          ]
        }
      ]
    },
    {
      "cell_type": "code",
      "source": [
        "from sklearn.metrics import confusion_matrix"
      ],
      "metadata": {
        "id": "HIwA1okpUYyz"
      },
      "execution_count": null,
      "outputs": []
    },
    {
      "cell_type": "code",
      "source": [
        "y_pred=predictions.select(\"prediction\").collect()"
      ],
      "metadata": {
        "id": "TdEcHyjyT3Mo"
      },
      "execution_count": null,
      "outputs": []
    },
    {
      "cell_type": "code",
      "source": [
        "y_orig=predictions.select(\"label\").collect()"
      ],
      "metadata": {
        "id": "Z-6impjuUC2d"
      },
      "execution_count": null,
      "outputs": []
    },
    {
      "cell_type": "code",
      "source": [
        "cm = confusion_matrix(y_orig, y_pred)\n",
        "print(\"Confusion Matrix:\")\n",
        "print(cm)"
      ],
      "metadata": {
        "colab": {
          "base_uri": "https://localhost:8080/"
        },
        "id": "YRpltI0JUNKO",
        "outputId": "f6a8fe51-33ff-49fa-bcc4-edee7a346765"
      },
      "execution_count": null,
      "outputs": [
        {
          "output_type": "stream",
          "name": "stdout",
          "text": [
            "Confusion Matrix:\n",
            "[[2168  485]\n",
            " [2040  531]]\n"
          ]
        }
      ]
    }
  ],
  "metadata": {
    "colab": {
      "provenance": []
    },
    "kernelspec": {
      "display_name": "Python 3",
      "name": "python3"
    },
    "language_info": {
      "name": "python"
    }
  },
  "nbformat": 4,
  "nbformat_minor": 0
}